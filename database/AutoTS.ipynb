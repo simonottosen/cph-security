{
 "cells": [
  {
   "cell_type": "code",
   "execution_count": null,
   "id": "7ee2c4f2-cc49-488c-aa1b-ec672da4bf10",
   "metadata": {},
   "outputs": [],
   "source": [
    "import json\n",
    "import pandas as pd\n",
    "import urllib.request\n",
    "from autots import AutoTS\n",
    "import holidays\n",
    "from datetime import datetime, timedelta\n",
    "import time  # Needed for time.time()\n",
    "import pytz  # Import for timezone handling\n",
    "import matplotlib.pyplot as plt\n",
    "import tensorflow as tf\n",
    "\n",
    "# Start timing the data loading process\n",
    "start_time_load_data = time.time()\n",
    "\n",
    "# Step 1: Read data from the API\n",
    "newmodeldata_url = \"https://waitport.com/api/v1/all?airport=eq.CPH\"\n",
    "dataframe = pd.read_json(newmodeldata_url)\n",
    "print(\"Done step 1\")\n",
    "\n",
    "# Step 2: Add holidays and create new columns\n",
    "\n",
    "# Convert 'timestamp' to datetime with UTC timezone\n",
    "dataframe['timestamp'] = pd.to_datetime(dataframe['timestamp'], utc=True)\n",
    "\n",
    "# Convert timestamps to Europe/Dublin timezone\n",
    "dataframe['timestamp'] = dataframe['timestamp'].dt.tz_convert('Europe/Copenhagen')\n",
    "\n",
    "# Remove timezone information if you prefer naive datetime objects\n",
    "dataframe['timestamp'] = dataframe['timestamp'].dt.tz_localize(None)\n",
    "\n",
    "# Set 'timestamp' as the index\n",
    "dataframe.set_index('timestamp', inplace=True)\n",
    "\n",
    "# Create a copy to work with\n",
    "df = dataframe.copy()\n",
    "\n",
    "# Extract date and time features from the index\n",
    "df['year'] = df.index.year\n",
    "df['month'] = df.index.month\n",
    "df['day'] = df.index.day\n",
    "df['hour'] = df.index.hour\n",
    "df['weekday'] = df.index.weekday\n",
    "\n",
    "# Create dummy variables for 'airport' (though it's only 'DUB' in this case)\n",
    "df_airport = pd.get_dummies(df['airport'])\n",
    "df = pd.concat([df, df_airport], axis=1)\n",
    "df.drop(columns=['airport'], inplace=True)\n",
    "\n",
    "# Define Irish holidays\n",
    "dk_holidays = holidays.Denmark()\n",
    "\n",
    "# Add 'Holiday' column: 1 if the date is a holiday, 0 otherwise\n",
    "df['Holiday'] = df.index.normalize().isin(dk_holidays).astype(int)\n",
    "\n",
    "# Ensure 'date' column exists for grouping\n",
    "df['date'] = df.index.normalize()\n",
    "\n",
    "# Filter data between 7 AM and 10 PM\n",
    "df_between_7_and_22 = df[(df['hour'] >= 7) & (df['hour'] <= 22)]\n",
    "\n",
    "# Compute average queue per date\n",
    "avg_queue_per_date = df_between_7_and_22.groupby('date')['queue'].mean().reset_index()\n",
    "avg_queue_per_date.columns = ['date', 'average_queue']\n",
    "\n",
    "# Create a mapping from date to average_queue\n",
    "avg_queue_dict = avg_queue_per_date.set_index('date')['average_queue'].to_dict()\n",
    "\n",
    "# Map the previous day's average queue to each timestamp\n",
    "df['date_minus_1'] = df['date'] - pd.Timedelta(days=1)\n",
    "df['yesterday_average_queue'] = df['date_minus_1'].map(avg_queue_dict)\n",
    "\n",
    "# Map the last week's average queue (7 days ago) to each timestamp\n",
    "df['date_minus_7'] = df['date'] - pd.Timedelta(days=7)\n",
    "df['lastweek_average_queue'] = df['date_minus_7'].map(avg_queue_dict)\n",
    "\n",
    "# Remove 'id' column if it exists\n",
    "if 'id' in df.columns:\n",
    "    df.drop(['id'], axis=1, inplace=True)\n",
    "\n",
    "# Drop temporary date columns if not needed\n",
    "df.drop(['date', 'date_minus_1', 'date_minus_7'], axis=1, inplace=True)\n",
    "\n",
    "print(\"Returned data successfully in %.2f seconds \" % (time.time() - start_time_load_data))\n",
    "print(\"Done step 2\")\n",
    "\n",
    "# Step 3: The 'timestamp' is already set as the index; no need to set it again\n",
    "print(\"Done step 3\")\n",
    "\n",
    "# Step 4: Remove duplicate timestamps if any\n",
    "df = df[~df.index.duplicated(keep='first')]\n",
    "print(\"Done step 4\")\n",
    "\n",
    "# Step 5: Resample the data to every 5 minutes and forward-fill missing values\n",
    "df_resampled = df.resample('30 min').ffill()  # '5T' is the alias for 5 minutes\n",
    "print(\"Done step 5\")\n",
    "\n",
    "# Step 6: Drop unnecessary columns if they exist\n",
    "columns_to_drop = [col for col in ['id', 'airport', 'CPH'] if col in df_resampled.columns]\n",
    "df_resampled.drop(columns=columns_to_drop, inplace=True, errors='ignore')\n",
    "df_resampled.dropna(subset=['queue'], inplace=True)\n",
    "df_resampled.dropna(subset=['queue', 'lastweek_average_queue', 'yesterday_average_queue'], inplace=True)\n",
    "int_columns = ['queue', 'year', 'month', 'day', 'hour', 'weekday', 'Holiday']\n",
    "\n",
    "# Convert specified columns to integers\n",
    "for col in int_columns:\n",
    "    df_resampled[col] = df_resampled[col].astype(int)\n",
    "\n",
    "# Round average queue columns to nearest integer and convert to int\n",
    "df_resampled['yesterday_average_queue'] = df_resampled['yesterday_average_queue'].round().astype(int)\n",
    "df_resampled['lastweek_average_queue'] = df_resampled['lastweek_average_queue'].round().astype(int)\n",
    "\n",
    "\n",
    "print(\"Done step 6\")\n",
    "\n",
    "# Now, df_resampled is your final DataFrame ready for modeling\n"
   ]
  },
  {
   "cell_type": "code",
   "execution_count": null,
   "id": "728b5f75-46ae-4f20-9213-49f9802ea817",
   "metadata": {},
   "outputs": [],
   "source": [
    "# Step 6: Fit the model using AutoTS\n",
    "model = AutoTS(\n",
    "    forecast_length=21,\n",
    "    frequency='infer',\n",
    "    prediction_interval=0.9,\n",
    "    ensemble='auto',\n",
    "    model_list=\"fast_parallel\",  # Options: \"superfast\", \"default\", \"fast_parallel\"\n",
    "    transformer_list=\"superfast\",  # Options: \"superfast\"\n",
    "    drop_most_recent=1,\n",
    "    max_generations=1,\n",
    "    num_validations=2,\n",
    "    no_negatives=True,\n",
    "    constraint=2.0,\n",
    "    validation_method=\"similarity\"\n",
    ")\n"
   ]
  },
  {
   "cell_type": "code",
   "execution_count": null,
   "id": "b57d0a31-d347-45b1-af64-221e925b1e43",
   "metadata": {},
   "outputs": [],
   "source": [
    "model = model.fit(df_resampled)"
   ]
  },
  {
   "cell_type": "code",
   "execution_count": null,
   "id": "b0a9d666-68d9-4ebe-9796-eba0caf2342d",
   "metadata": {},
   "outputs": [],
   "source": [
    "print(model.best_model_name)"
   ]
  },
  {
   "cell_type": "code",
   "execution_count": null,
   "id": "e029161e-5610-44b8-8dd3-3ce83f234874",
   "metadata": {},
   "outputs": [],
   "source": []
  },
  {
   "cell_type": "code",
   "execution_count": null,
   "id": "852bc87b-b552-4b8a-85cd-54ca5f31a5a3",
   "metadata": {},
   "outputs": [],
   "source": [
    "prediction = model.predict()\n",
    "\n",
    "prediction.plot(\n",
    "    model.df_wide_numeric,\n",
    "    series=model.df_wide_numeric.columns[2],\n",
    "    remove_zeroes=False,\n",
    ")\n",
    "plt.show()\n",
    "\n",
    "model.plot_per_series_mape(kind=\"pie\")\n",
    "plt.show()\n",
    "\n",
    "model.plot_per_series_error()\n",
    "plt.show()\n",
    "\n",
    "model.plot_generation_loss()\n",
    "plt.show()\n",
    "\n",
    "if model.best_model_ensemble == 2:\n",
    "    model.plot_horizontal_per_generation()\n",
    "    plt.show()\n",
    "    model.plot_horizontal_transformers(method=\"fillna\")\n",
    "    plt.show()\n",
    "    model.plot_horizontal_transformers()\n",
    "    plt.show()\n",
    "    model.plot_horizontal()\n",
    "    plt.show()\n",
    "    if \"mosaic\" in model.best_model[\"ModelParameters\"].iloc[0].lower():\n",
    "        mosaic_df = model.mosaic_to_df()\n",
    "        print(mosaic_df[mosaic_df.columns[0:5]].head(5))\n",
    "\n",
    "if False:  # slow\n",
    "    model.plot_backforecast(n_splits=\"auto\", start_date=\"2022-01-01\")\n"
   ]
  },
  {
   "cell_type": "code",
   "execution_count": null,
   "id": "31241511-1bbc-46d6-811e-0ee700d8a1c9",
   "metadata": {},
   "outputs": [],
   "source": [
    "prediction.forecast"
   ]
  },
  {
   "cell_type": "code",
   "execution_count": null,
   "id": "ce9db469-2875-47a1-8325-c66118d63724",
   "metadata": {},
   "outputs": [],
   "source": [
    "model.export_template('model_best.json', models='best', max_per_model_class=1, include_results=True)"
   ]
  },
  {
   "cell_type": "code",
   "execution_count": null,
   "id": "5113880e-bb3e-46ef-b7ec-0e01bbf142b1",
   "metadata": {},
   "outputs": [],
   "source": [
    "start_time_load_data = time.time()\n",
    "\n",
    "model_new = AutoTS(forecast_length=21,\n",
    "               frequency='infer', max_generations=0,\n",
    "               num_validations=0, verbose=0)\n",
    "\n",
    "model_new = model_new.import_template(\n",
    "    \"model_best.json\",\n",
    "    method=\"only\",\n",
    "    enforce_model_list=True)\n",
    "\n",
    "model_new = model_new.fit(df_resampled)\n",
    "prediction = model_new.predict()\n",
    "print(\"Finalised training in %.2f seconds \" % (time.time() - start_time_load_data))\n"
   ]
  },
  {
   "cell_type": "code",
   "execution_count": null,
   "id": "92e8f63e-296d-4612-baa1-dad1584a8faf",
   "metadata": {},
   "outputs": [],
   "source": []
  },
  {
   "cell_type": "code",
   "execution_count": null,
   "id": "acc4ff73-441e-4897-9126-cbe19ad1f2f1",
   "metadata": {},
   "outputs": [],
   "source": []
  },
  {
   "cell_type": "code",
   "execution_count": null,
   "id": "c2290034-cef6-4ddd-8e42-82e1e140a1f4",
   "metadata": {},
   "outputs": [],
   "source": [
    "prediction = model_new.predict()"
   ]
  },
  {
   "cell_type": "code",
   "execution_count": null,
   "id": "21917061-5e40-413b-aec6-099ec888c1e4",
   "metadata": {},
   "outputs": [],
   "source": [
    "prediction.forecast"
   ]
  },
  {
   "cell_type": "code",
   "execution_count": null,
   "id": "b1009d20-4faa-44e2-9ff3-bacf4a2c526c",
   "metadata": {},
   "outputs": [],
   "source": [
    "import urllib.request\n",
    "from urllib.request import urlopen\n",
    "import ssl\n",
    "import json\n",
    "ssl._create_default_https_context = ssl._create_unverified_context\n"
   ]
  },
  {
   "cell_type": "code",
   "execution_count": null,
   "id": "efee149b-71f7-467a-89a0-63f366aef827",
   "metadata": {},
   "outputs": [],
   "source": []
  },
  {
   "cell_type": "code",
   "execution_count": null,
   "id": "7390b423-8233-408b-940b-c8938eae7c3f",
   "metadata": {},
   "outputs": [],
   "source": [
    "from autots.evaluator.benchmark import Benchmark\n",
    "bench = Benchmark()\n",
    "bench.run(n_jobs=\"auto\", times=3)\n",
    "bench.results\n"
   ]
  },
  {
   "cell_type": "code",
   "execution_count": null,
   "id": "961eb637-710f-4d8d-898c-79eafa73a8da",
   "metadata": {},
   "outputs": [],
   "source": []
  },
  {
   "cell_type": "code",
   "execution_count": null,
   "id": "6f773f5a-02e1-4927-97bc-e8a2dc007335",
   "metadata": {},
   "outputs": [],
   "source": [
    "\n"
   ]
  },
  {
   "cell_type": "code",
   "execution_count": null,
   "id": "c1e0cd42-dc14-4a73-9470-947ba86c1bf2",
   "metadata": {},
   "outputs": [],
   "source": [
    "import tensorflow as tf\n",
    "\n",
    "cifar = tf.keras.datasets.cifar100\n",
    "(x_train, y_train), (x_test, y_test) = cifar.load_data()\n",
    "model = tf.keras.applications.ResNet50(\n",
    "    include_top=True,\n",
    "    weights=None,\n",
    "    input_shape=(32, 32, 3),\n",
    "    classes=100,)\n",
    "\n",
    "loss_fn = tf.keras.losses.SparseCategoricalCrossentropy(from_logits=False)\n",
    "model.compile(optimizer=\"adam\", loss=loss_fn, metrics=[\"accuracy\"])\n",
    "model.fit(x_train, y_train, epochs=5, batch_size=64)\n"
   ]
  },
  {
   "cell_type": "code",
   "execution_count": 10,
   "id": "780c2192-178b-4b54-8b50-aa38338b0492",
   "metadata": {},
   "outputs": [
    {
     "name": "stdout",
     "output_type": "stream",
     "text": [
      "Requirement already satisfied: tensorflow-metal in /Users/ottosensimon/miniconda3/envs/tf/lib/python3.10/site-packages (1.1.0)\n",
      "Requirement already satisfied: wheel~=0.35 in /Users/ottosensimon/miniconda3/envs/tf/lib/python3.10/site-packages (from tensorflow-metal) (0.44.0)\n",
      "Requirement already satisfied: six>=1.15.0 in /Users/ottosensimon/miniconda3/envs/tf/lib/python3.10/site-packages (from tensorflow-metal) (1.16.0)\n"
     ]
    }
   ],
   "source": []
  },
  {
   "cell_type": "code",
   "execution_count": null,
   "id": "989063ae-cdef-4727-a88a-435eed65ebd6",
   "metadata": {},
   "outputs": [],
   "source": []
  }
 ],
 "metadata": {
  "kernelspec": {
   "display_name": "Python 3 (ipykernel)",
   "language": "python",
   "name": "python3"
  },
  "language_info": {
   "codemirror_mode": {
    "name": "ipython",
    "version": 3
   },
   "file_extension": ".py",
   "mimetype": "text/x-python",
   "name": "python",
   "nbconvert_exporter": "python",
   "pygments_lexer": "ipython3",
   "version": "3.10.15"
  }
 },
 "nbformat": 4,
 "nbformat_minor": 5
}
