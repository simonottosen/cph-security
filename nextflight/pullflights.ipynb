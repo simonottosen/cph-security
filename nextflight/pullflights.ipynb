{
 "cells": [
  {
   "cell_type": "code",
   "execution_count": null,
   "id": "06b01d2a",
   "metadata": {
    "vscode": {
     "languageId": "plaintext"
    }
   },
   "outputs": [],
   "source": [
    "pip install amadeus"
   ]
  },
  {
   "cell_type": "code",
   "execution_count": null,
   "id": "f4eed662",
   "metadata": {
    "vscode": {
     "languageId": "plaintext"
    }
   },
   "outputs": [],
   "source": [
    "\"\"\"\n",
    "Example: list *all* flight offers that depart <origin> on <date>\n",
    "using the Amadeus *test* environment.\n",
    "\n",
    "Prerequisites\n",
    "-------------\n",
    "$ pip install amadeus python-dotenv           # or keep using plain `requests`\n",
    "# create a .env file with:\n",
    "AMADEUS_CLIENT_ID=your_test_key\n",
    "AMADEUS_CLIENT_SECRET=your_test_secret\n",
    "\"\"\"\n",
    "\n",
    "import os\n",
    "from datetime import datetime\n"
   ]
  },
  {
   "cell_type": "code",
   "execution_count": null,
   "id": "7053fa79",
   "metadata": {
    "vscode": {
     "languageId": "plaintext"
    }
   },
   "outputs": [],
   "source": [
    "\n",
    "try:\n",
    "    from amadeus import Client, ResponseError\n",
    "except ImportError:\n",
    "    Client = None        # fallback later if SDK isn't installed\n",
    "\n",
    "#load_dotenv()            # pull credentials from .env or the environment\n",
    "\n",
    "CLIENT_ID     = os.getenv(\"AMADEUS_CLIENT_ID\")\n",
    "CLIENT_SECRET = os.getenv(\"AMADEUS_CLIENT_SECRET\")\n",
    "HOSTNAME      = \"test\"   # <‑‑ keep “test” for the free sandbox\n",
    "\n",
    "def sdk_get_flights(origin_iata: str, departure_date: str,\n",
    "                    max_offers_per_dest: int = 20, adults: int = 1):\n",
    "    \"\"\"\n",
    "    Return a flat list with every flight offer (price + itinerary segments)\n",
    "    departing *origin_iata* on *departure_date*.\n",
    "    \"\"\"\n",
    "    if Client is None:\n",
    "        raise RuntimeError(\"Install the `amadeus` package to use the SDK path.\")\n",
    "\n",
    "    amadeus = Client(\n",
    "        client_id     = CLIENT_ID,\n",
    "        client_secret = CLIENT_SECRET,\n",
    "        hostname      = HOSTNAME\n",
    "    )\n",
    "\n",
    "    try:\n",
    "        # Step 1 – which destinations are served that day?\n",
    "        dest_resp = amadeus.shopping.flight_destinations.get(\n",
    "            origin        = origin_iata,\n",
    "            departureDate = departure_date\n",
    "        )\n",
    "        destinations = [d[\"destination\"] for d in dest_resp.data]\n",
    "\n",
    "        all_offers = []\n",
    "        # Step 2 – query each origin‑destination pair\n",
    "        for dst in destinations:\n",
    "            offers_resp = amadeus.shopping.flight_offers_search.get(\n",
    "                originLocationCode      = origin_iata,\n",
    "                destinationLocationCode = dst,\n",
    "                departureDate           = departure_date,\n",
    "                adults                  = adults,\n",
    "                currencyCode            = \"DKK\",\n",
    "                max                     = max_offers_per_dest\n",
    "            )\n",
    "            all_offers.extend(offers_resp.data)\n",
    "\n",
    "        return all_offers\n",
    "\n",
    "    except ResponseError as err:\n",
    "        # The SDK already prints the HTTP details; re‑raise for visibility\n",
    "        raise err\n"
   ]
  },
  {
   "cell_type": "code",
   "execution_count": null,
   "id": "4147303c",
   "metadata": {
    "vscode": {
     "languageId": "plaintext"
    }
   },
   "outputs": [],
   "source": [
    "\n",
    "if __name__ == \"__main__\":\n",
    "    origin = \"CPH\"         # Madrid works reliably in the sandbox\n",
    "    date   = datetime.now().strftime(\"%Y-%m-%d\")\n",
    "\n",
    "    print(f\"\\n=== Using SDK ===\")\n",
    "    if Client:\n",
    "        flights = sdk_get_flights(origin, date)\n",
    "        print(f\"Total offers: {len(flights)}\")\n",
    "    else:\n",
    "        print(\"SDK path skipped – install `amadeus` to enable it.\")\n"
   ]
  }
 ],
 "metadata": {
  "language_info": {
   "name": "python"
  }
 },
 "nbformat": 4,
 "nbformat_minor": 5
}
